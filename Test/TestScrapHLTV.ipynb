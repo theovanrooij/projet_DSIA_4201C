{
 "cells": [
  {
   "cell_type": "code",
   "execution_count": 1,
   "id": "61d504d1",
   "metadata": {
    "scrolled": true
   },
   "outputs": [
    {
     "name": "stdout",
     "output_type": "stream",
     "text": [
      "Requirement already satisfied: scrapy in /root/.local/share/virtualenvs/code-AFz48Hjb/lib/python3.8/site-packages (2.4.0)\n",
      "Requirement already satisfied: cssselect>=0.9.1 in /root/.local/share/virtualenvs/code-AFz48Hjb/lib/python3.8/site-packages (from scrapy) (1.1.0)\n",
      "Requirement already satisfied: service-identity>=16.0.0 in /root/.local/share/virtualenvs/code-AFz48Hjb/lib/python3.8/site-packages (from scrapy) (18.1.0)\n",
      "Requirement already satisfied: zope.interface>=4.1.3 in /root/.local/share/virtualenvs/code-AFz48Hjb/lib/python3.8/site-packages (from scrapy) (5.2.0)\n",
      "Requirement already satisfied: Twisted>=17.9.0 in /root/.local/share/virtualenvs/code-AFz48Hjb/lib/python3.8/site-packages (from scrapy) (20.3.0)\n",
      "Requirement already satisfied: cryptography>=2.0 in /root/.local/share/virtualenvs/code-AFz48Hjb/lib/python3.8/site-packages (from scrapy) (3.2.1)\n",
      "Requirement already satisfied: protego>=0.1.15 in /root/.local/share/virtualenvs/code-AFz48Hjb/lib/python3.8/site-packages (from scrapy) (0.1.16)\n",
      "Requirement already satisfied: PyDispatcher>=2.0.5 in /root/.local/share/virtualenvs/code-AFz48Hjb/lib/python3.8/site-packages (from scrapy) (2.0.5)\n",
      "Requirement already satisfied: parsel>=1.5.0 in /root/.local/share/virtualenvs/code-AFz48Hjb/lib/python3.8/site-packages (from scrapy) (1.6.0)\n",
      "Requirement already satisfied: itemloaders>=1.0.1 in /root/.local/share/virtualenvs/code-AFz48Hjb/lib/python3.8/site-packages (from scrapy) (1.0.3)\n",
      "Requirement already satisfied: w3lib>=1.17.0 in /root/.local/share/virtualenvs/code-AFz48Hjb/lib/python3.8/site-packages (from scrapy) (1.22.0)\n",
      "Requirement already satisfied: lxml>=3.5.0 in /root/.local/share/virtualenvs/code-AFz48Hjb/lib/python3.8/site-packages (from scrapy) (4.6.4)\n",
      "Requirement already satisfied: queuelib>=1.4.2 in /root/.local/share/virtualenvs/code-AFz48Hjb/lib/python3.8/site-packages (from scrapy) (1.5.0)\n",
      "Requirement already satisfied: itemadapter>=0.1.0 in /root/.local/share/virtualenvs/code-AFz48Hjb/lib/python3.8/site-packages (from scrapy) (0.2.0)\n",
      "Requirement already satisfied: pyOpenSSL>=16.2.0 in /root/.local/share/virtualenvs/code-AFz48Hjb/lib/python3.8/site-packages (from scrapy) (19.1.0)\n",
      "Requirement already satisfied: cffi!=1.11.3,>=1.8 in /root/.local/share/virtualenvs/code-AFz48Hjb/lib/python3.8/site-packages (from cryptography>=2.0->scrapy) (1.14.3)\n",
      "Requirement already satisfied: six>=1.4.1 in /root/.local/share/virtualenvs/code-AFz48Hjb/lib/python3.8/site-packages (from cryptography>=2.0->scrapy) (1.15.0)\n",
      "Requirement already satisfied: jmespath>=0.9.5 in /root/.local/share/virtualenvs/code-AFz48Hjb/lib/python3.8/site-packages (from itemloaders>=1.0.1->scrapy) (0.10.0)\n",
      "Requirement already satisfied: pyasn1 in /root/.local/share/virtualenvs/code-AFz48Hjb/lib/python3.8/site-packages (from service-identity>=16.0.0->scrapy) (0.4.8)\n",
      "Requirement already satisfied: pyasn1-modules in /root/.local/share/virtualenvs/code-AFz48Hjb/lib/python3.8/site-packages (from service-identity>=16.0.0->scrapy) (0.2.8)\n",
      "Requirement already satisfied: attrs>=16.0.0 in /root/.local/share/virtualenvs/code-AFz48Hjb/lib/python3.8/site-packages (from service-identity>=16.0.0->scrapy) (20.3.0)\n",
      "Requirement already satisfied: PyHamcrest!=1.10.0,>=1.9.0 in /root/.local/share/virtualenvs/code-AFz48Hjb/lib/python3.8/site-packages (from Twisted>=17.9.0->scrapy) (2.0.2)\n",
      "Requirement already satisfied: constantly>=15.1 in /root/.local/share/virtualenvs/code-AFz48Hjb/lib/python3.8/site-packages (from Twisted>=17.9.0->scrapy) (15.1.0)\n",
      "Requirement already satisfied: incremental>=16.10.1 in /root/.local/share/virtualenvs/code-AFz48Hjb/lib/python3.8/site-packages (from Twisted>=17.9.0->scrapy) (17.5.0)\n",
      "Requirement already satisfied: hyperlink>=17.1.1 in /root/.local/share/virtualenvs/code-AFz48Hjb/lib/python3.8/site-packages (from Twisted>=17.9.0->scrapy) (20.0.1)\n",
      "Requirement already satisfied: Automat>=0.3.0 in /root/.local/share/virtualenvs/code-AFz48Hjb/lib/python3.8/site-packages (from Twisted>=17.9.0->scrapy) (20.2.0)\n",
      "Requirement already satisfied: setuptools in /root/.local/share/virtualenvs/code-AFz48Hjb/lib/python3.8/site-packages (from zope.interface>=4.1.3->scrapy) (58.3.0)\n",
      "Requirement already satisfied: pycparser in /root/.local/share/virtualenvs/code-AFz48Hjb/lib/python3.8/site-packages (from cffi!=1.11.3,>=1.8->cryptography>=2.0->scrapy) (2.20)\n",
      "Requirement already satisfied: idna>=2.5 in /root/.local/share/virtualenvs/code-AFz48Hjb/lib/python3.8/site-packages (from hyperlink>=17.1.1->Twisted>=17.9.0->scrapy) (2.10)\n"
     ]
    }
   ],
   "source": [
    "!pip install scrapy"
   ]
  },
  {
   "cell_type": "code",
   "execution_count": 2,
   "id": "93442c90",
   "metadata": {},
   "outputs": [],
   "source": [
    "import scrapy"
   ]
  },
  {
   "cell_type": "code",
   "execution_count": 3,
   "id": "9eb0df43",
   "metadata": {},
   "outputs": [],
   "source": [
    "# %load citations_churchill_spider1.py\n",
    "import scrapy\n",
    "\n",
    "class StatsMatch(scrapy.Spider):\n",
    "    name = \"Scrap stats\"\n",
    "    start_urls = [\"https://www.hltv.org/stats/matches/85435/g2-vs-natus-vincere\",]\n",
    "\n",
    "    def parse(self, response):\n",
    "        for player in response.xpath('//table[@class=\"stats-table\"]'):\n",
    "            tr_value = cit.xpath('tr')\n",
    "            yield { 'tr' : tr_value }"
   ]
  },
  {
   "cell_type": "code",
   "execution_count": 9,
   "id": "f73a9065",
   "metadata": {
    "scrolled": true
   },
   "outputs": [
    {
     "name": "stdout",
     "output_type": "stream",
     "text": [
      "2021-12-22 11:06:11 [scrapy.utils.log] INFO: Scrapy 2.4.0 started (bot: scrapybot)\n",
      "2021-12-22 11:06:11 [scrapy.utils.log] INFO: Versions: lxml 4.6.4.0, libxml2 2.9.10, cssselect 1.1.0, parsel 1.6.0, w3lib 1.22.0, Twisted 20.3.0, Python 3.8.12 (default, Nov 17 2021, 16:58:51) - [GCC 10.2.1 20210110], pyOpenSSL 19.1.0 (OpenSSL 1.1.1h  22 Sep 2020), cryptography 3.2.1, Platform Linux-5.10.16.3-microsoft-standard-WSL2-x86_64-with-glibc2.2.5\n",
      "2021-12-22 11:06:11 [scrapy.utils.log] DEBUG: Using reactor: twisted.internet.epollreactor.EPollReactor\n",
      "2021-12-22 11:06:11 [scrapy.crawler] INFO: Overridden settings:\n",
      "{'SPIDER_LOADER_WARN_ONLY': True}\n",
      "2021-12-22 11:06:11 [scrapy.extensions.telnet] INFO: Telnet Password: 248b70208c9d7216\n",
      "2021-12-22 11:06:11 [scrapy.middleware] INFO: Enabled extensions:\n",
      "['scrapy.extensions.corestats.CoreStats',\n",
      " 'scrapy.extensions.telnet.TelnetConsole',\n",
      " 'scrapy.extensions.memusage.MemoryUsage',\n",
      " 'scrapy.extensions.logstats.LogStats']\n",
      "2021-12-22 11:06:11 [scrapy.middleware] INFO: Enabled downloader middlewares:\n",
      "['scrapy.downloadermiddlewares.httpauth.HttpAuthMiddleware',\n",
      " 'scrapy.downloadermiddlewares.downloadtimeout.DownloadTimeoutMiddleware',\n",
      " 'scrapy.downloadermiddlewares.defaultheaders.DefaultHeadersMiddleware',\n",
      " 'scrapy.downloadermiddlewares.useragent.UserAgentMiddleware',\n",
      " 'scrapy.downloadermiddlewares.retry.RetryMiddleware',\n",
      " 'scrapy.downloadermiddlewares.redirect.MetaRefreshMiddleware',\n",
      " 'scrapy.downloadermiddlewares.httpcompression.HttpCompressionMiddleware',\n",
      " 'scrapy.downloadermiddlewares.redirect.RedirectMiddleware',\n",
      " 'scrapy.downloadermiddlewares.cookies.CookiesMiddleware',\n",
      " 'scrapy.downloadermiddlewares.httpproxy.HttpProxyMiddleware',\n",
      " 'scrapy.downloadermiddlewares.stats.DownloaderStats']\n",
      "2021-12-22 11:06:11 [scrapy.middleware] INFO: Enabled spider middlewares:\n",
      "['scrapy.spidermiddlewares.httperror.HttpErrorMiddleware',\n",
      " 'scrapy.spidermiddlewares.offsite.OffsiteMiddleware',\n",
      " 'scrapy.spidermiddlewares.referer.RefererMiddleware',\n",
      " 'scrapy.spidermiddlewares.urllength.UrlLengthMiddleware',\n",
      " 'scrapy.spidermiddlewares.depth.DepthMiddleware']\n",
      "2021-12-22 11:06:11 [scrapy.middleware] INFO: Enabled item pipelines:\n",
      "[]\n",
      "2021-12-22 11:06:11 [scrapy.core.engine] INFO: Spider opened\n",
      "2021-12-22 11:06:11 [scrapy.extensions.logstats] INFO: Crawled 0 pages (at 0 pages/min), scraped 0 items (at 0 items/min)\n",
      "2021-12-22 11:06:11 [scrapy.extensions.telnet] INFO: Telnet console listening on 127.0.0.1:6023\n",
      "2021-12-22 11:06:11 [scrapy.downloadermiddlewares.retry] DEBUG: Retrying <GET http://www.hltv.org/stats/matches/85435/g2-vs-natus-vincere> (failed 1 times): 503 Service Unavailable\n",
      "2021-12-22 11:06:11 [scrapy.downloadermiddlewares.retry] DEBUG: Retrying <GET http://www.hltv.org/stats/matches/85435/g2-vs-natus-vincere> (failed 2 times): 503 Service Unavailable\n",
      "2021-12-22 11:06:12 [scrapy.downloadermiddlewares.retry] ERROR: Gave up retrying <GET http://www.hltv.org/stats/matches/85435/g2-vs-natus-vincere> (failed 3 times): 503 Service Unavailable\n",
      "2021-12-22 11:06:12 [scrapy.core.engine] DEBUG: Crawled (503) <GET http://www.hltv.org/stats/matches/85435/g2-vs-natus-vincere> (referer: None)\n",
      "2021-12-22 11:06:12 [scrapy.spidermiddlewares.httperror] INFO: Ignoring response <503 http://www.hltv.org/stats/matches/85435/g2-vs-natus-vincere>: HTTP status code is not handled or not allowed\n",
      "2021-12-22 11:06:12 [scrapy.core.engine] INFO: Closing spider (finished)\n",
      "2021-12-22 11:06:12 [scrapy.statscollectors] INFO: Dumping Scrapy stats:\n",
      "{'downloader/request_bytes': 753,\n",
      " 'downloader/request_count': 3,\n",
      " 'downloader/request_method_count/GET': 3,\n",
      " 'downloader/response_bytes': 27423,\n",
      " 'downloader/response_count': 3,\n",
      " 'downloader/response_status_count/503': 3,\n",
      " 'elapsed_time_seconds': 0.402961,\n",
      " 'finish_reason': 'finished',\n",
      " 'finish_time': datetime.datetime(2021, 12, 22, 11, 6, 12, 147691),\n",
      " 'httperror/response_ignored_count': 1,\n",
      " 'httperror/response_ignored_status_count/503': 1,\n",
      " 'log_count/DEBUG': 3,\n",
      " 'log_count/ERROR': 1,\n",
      " 'log_count/INFO': 11,\n",
      " 'memusage/max': 56324096,\n",
      " 'memusage/startup': 56324096,\n",
      " 'response_received_count': 1,\n",
      " 'retry/count': 2,\n",
      " 'retry/max_reached': 1,\n",
      " 'retry/reason_count/503 Service Unavailable': 2,\n",
      " 'scheduler/dequeued': 3,\n",
      " 'scheduler/dequeued/memory': 3,\n",
      " 'scheduler/enqueued': 3,\n",
      " 'scheduler/enqueued/memory': 3,\n",
      " 'start_time': datetime.datetime(2021, 12, 22, 11, 6, 11, 744730)}\n",
      "2021-12-22 11:06:12 [scrapy.core.engine] INFO: Spider closed (finished)\n"
     ]
    }
   ],
   "source": [
    "!scrapy runspider StatsMatch.py"
   ]
  },
  {
   "cell_type": "code",
   "execution_count": 13,
   "id": "e0792072",
   "metadata": {
    "scrolled": true
   },
   "outputs": [
    {
     "name": "stdout",
     "output_type": "stream",
     "text": [
      "New Scrapy project 'hltv', using template directory '/root/.local/share/virtualenvs/code-AFz48Hjb/lib/python3.8/site-packages/scrapy/templates/project', created in:\r\n",
      "    /home/dev/code/6Evaluation/Projet/Test/hltv\r\n",
      "\r\n",
      "You can start your first spider with:\r\n",
      "    cd hltv\r\n",
      "    scrapy genspider example example.com\r\n"
     ]
    }
   ],
   "source": [
    "!scrapy startproject hltv"
   ]
  },
  {
   "cell_type": "code",
   "execution_count": 19,
   "id": "96ccef4c",
   "metadata": {
    "scrolled": true
   },
   "outputs": [
    {
     "name": "stdout",
     "output_type": "stream",
     "text": [
      "Created spider 'htlv' using template 'basic' in module:\r\n",
      "  {spiders_module.__name__}.{module}\r\n"
     ]
    }
   ],
   "source": [
    "!cd hltv && scrapy genspider htlv hltv.org/"
   ]
  },
  {
   "cell_type": "code",
   "execution_count": 78,
   "id": "af4a767c",
   "metadata": {},
   "outputs": [
    {
     "name": "stdout",
     "output_type": "stream",
     "text": [
      "2021-12-22 13:49:54 [scrapy.utils.log] INFO: Scrapy 2.4.0 started (bot: hltv)\n",
      "2021-12-22 13:49:54 [scrapy.utils.log] INFO: Versions: lxml 4.6.4.0, libxml2 2.9.10, cssselect 1.1.0, parsel 1.6.0, w3lib 1.22.0, Twisted 20.3.0, Python 3.8.12 (default, Nov 17 2021, 16:58:51) - [GCC 10.2.1 20210110], pyOpenSSL 19.1.0 (OpenSSL 1.1.1h  22 Sep 2020), cryptography 3.2.1, Platform Linux-5.10.16.3-microsoft-standard-WSL2-x86_64-with-glibc2.2.5\n",
      "2021-12-22 13:49:54 [scrapy.utils.log] DEBUG: Using reactor: twisted.internet.epollreactor.EPollReactor\n",
      "2021-12-22 13:49:54 [scrapy.crawler] INFO: Overridden settings:\n",
      "{'BOT_NAME': 'hltv',\n",
      " 'NEWSPIDER_MODULE': 'hltv.spiders',\n",
      " 'ROBOTSTXT_OBEY': True,\n",
      " 'SPIDER_MODULES': ['hltv.spiders'],\n",
      " 'USER_AGENT': 'hltv (+http://www.yourdomain.com)'}\n",
      "2021-12-22 13:49:54 [scrapy.extensions.telnet] INFO: Telnet Password: cc13341ae7f095cd\n",
      "2021-12-22 13:49:54 [scrapy.middleware] INFO: Enabled extensions:\n",
      "['scrapy.extensions.corestats.CoreStats',\n",
      " 'scrapy.extensions.telnet.TelnetConsole',\n",
      " 'scrapy.extensions.memusage.MemoryUsage',\n",
      " 'scrapy.extensions.feedexport.FeedExporter',\n",
      " 'scrapy.extensions.logstats.LogStats']\n",
      "2021-12-22 13:49:54 [scrapy.middleware] INFO: Enabled downloader middlewares:\n",
      "['scrapy.downloadermiddlewares.robotstxt.RobotsTxtMiddleware',\n",
      " 'scrapy.downloadermiddlewares.httpauth.HttpAuthMiddleware',\n",
      " 'scrapy.downloadermiddlewares.downloadtimeout.DownloadTimeoutMiddleware',\n",
      " 'scrapy.downloadermiddlewares.defaultheaders.DefaultHeadersMiddleware',\n",
      " 'scrapy.downloadermiddlewares.useragent.UserAgentMiddleware',\n",
      " 'scrapy.downloadermiddlewares.retry.RetryMiddleware',\n",
      " 'scrapy.downloadermiddlewares.redirect.MetaRefreshMiddleware',\n",
      " 'scrapy.downloadermiddlewares.httpcompression.HttpCompressionMiddleware',\n",
      " 'scrapy.downloadermiddlewares.redirect.RedirectMiddleware',\n",
      " 'scrapy.downloadermiddlewares.cookies.CookiesMiddleware',\n",
      " 'scrapy.downloadermiddlewares.httpproxy.HttpProxyMiddleware',\n",
      " 'scrapy.downloadermiddlewares.stats.DownloaderStats']\n",
      "2021-12-22 13:49:54 [scrapy.middleware] INFO: Enabled spider middlewares:\n",
      "['scrapy.spidermiddlewares.httperror.HttpErrorMiddleware',\n",
      " 'scrapy.spidermiddlewares.offsite.OffsiteMiddleware',\n",
      " 'scrapy.spidermiddlewares.referer.RefererMiddleware',\n",
      " 'scrapy.spidermiddlewares.urllength.UrlLengthMiddleware',\n",
      " 'scrapy.spidermiddlewares.depth.DepthMiddleware']\n",
      "2021-12-22 13:49:54 [scrapy.middleware] INFO: Enabled item pipelines:\n",
      "[]\n",
      "2021-12-22 13:49:54 [scrapy.core.engine] INFO: Spider opened\n",
      "2021-12-22 13:49:54 [scrapy.extensions.logstats] INFO: Crawled 0 pages (at 0 pages/min), scraped 0 items (at 0 items/min)\n",
      "2021-12-22 13:49:54 [scrapy.extensions.telnet] INFO: Telnet console listening on 127.0.0.1:6023\n",
      "2021-12-22 13:49:54 [scrapy.downloadermiddlewares.redirect] DEBUG: Redirecting (301) to <GET https://www.hltv.org/robots.txt> from <GET http://www.hltv.org/robots.txt>\n",
      "2021-12-22 13:49:54 [scrapy.core.engine] DEBUG: Crawled (200) <GET https://www.hltv.org/robots.txt> (referer: None)\n",
      "2021-12-22 13:49:54 [scrapy.downloadermiddlewares.redirect] DEBUG: Redirecting (301) to <GET https://www.hltv.org/stats/matches/85435/g2-vs-natus-vincere> from <GET http://www.hltv.org/stats/matches/85435/g2-vs-natus-vincere>\n",
      "2021-12-22 13:49:54 [scrapy.core.engine] DEBUG: Crawled (200) <GET https://www.hltv.org/stats/matches/85435/g2-vs-natus-vincere> (referer: None)\n",
      "2021-12-22 13:49:54 [scrapy.core.scraper] DEBUG: Scraped from <200 https://www.hltv.org/stats/matches/85435/g2-vs-natus-vincere>\n",
      "{'team': 'G2', 'opponent': 'Natus Vincere', 'player': 'NiKo', 'nationality': 'Bosnia and Herzegovina'}\n",
      "2021-12-22 13:49:54 [scrapy.core.scraper] DEBUG: Scraped from <200 https://www.hltv.org/stats/matches/85435/g2-vs-natus-vincere>\n",
      "{'team': 'G2', 'opponent': 'Natus Vincere', 'player': 'nexa', 'nationality': 'Serbia'}\n",
      "2021-12-22 13:49:54 [scrapy.core.scraper] DEBUG: Scraped from <200 https://www.hltv.org/stats/matches/85435/g2-vs-natus-vincere>\n",
      "{'team': 'G2', 'opponent': 'Natus Vincere', 'player': 'huNter-', 'nationality': 'Bosnia and Herzegovina'}\n",
      "2021-12-22 13:49:54 [scrapy.core.scraper] DEBUG: Scraped from <200 https://www.hltv.org/stats/matches/85435/g2-vs-natus-vincere>\n",
      "{'team': 'G2', 'opponent': 'Natus Vincere', 'player': 'AmaNEk', 'nationality': 'France'}\n",
      "2021-12-22 13:49:55 [scrapy.core.scraper] DEBUG: Scraped from <200 https://www.hltv.org/stats/matches/85435/g2-vs-natus-vincere>\n",
      "{'team': 'G2', 'opponent': 'Natus Vincere', 'player': 'JaCkz', 'nationality': 'France'}\n",
      "2021-12-22 13:49:55 [scrapy.core.scraper] DEBUG: Scraped from <200 https://www.hltv.org/stats/matches/85435/g2-vs-natus-vincere>\n",
      "{'team': 'Natus Vincere', 'opponent': 'G2', 'player': 's1mple', 'nationality': 'Ukraine'}\n",
      "2021-12-22 13:49:55 [scrapy.core.scraper] DEBUG: Scraped from <200 https://www.hltv.org/stats/matches/85435/g2-vs-natus-vincere>\n",
      "{'team': 'Natus Vincere', 'opponent': 'G2', 'player': 'electronic', 'nationality': 'Russia'}\n",
      "2021-12-22 13:49:55 [scrapy.core.scraper] DEBUG: Scraped from <200 https://www.hltv.org/stats/matches/85435/g2-vs-natus-vincere>\n",
      "{'team': 'Natus Vincere', 'opponent': 'G2', 'player': 'B1T', 'nationality': 'Ukraine'}\n",
      "2021-12-22 13:49:55 [scrapy.core.scraper] DEBUG: Scraped from <200 https://www.hltv.org/stats/matches/85435/g2-vs-natus-vincere>\n",
      "{'team': 'Natus Vincere', 'opponent': 'G2', 'player': 'Perfecto', 'nationality': 'Russia'}\n",
      "2021-12-22 13:49:55 [scrapy.core.scraper] DEBUG: Scraped from <200 https://www.hltv.org/stats/matches/85435/g2-vs-natus-vincere>\n",
      "{'team': 'Natus Vincere', 'opponent': 'G2', 'player': 'Boombl4', 'nationality': 'Russia'}\n",
      "2021-12-22 13:49:55 [scrapy.core.engine] INFO: Closing spider (finished)\n",
      "2021-12-22 13:49:55 [scrapy.extensions.feedexport] INFO: Stored json feed (10 items) in: lbc.json\n",
      "2021-12-22 13:49:55 [scrapy.statscollectors] INFO: Dumping Scrapy stats:\n",
      "{'downloader/request_bytes': 942,\n",
      " 'downloader/request_count': 4,\n",
      " 'downloader/request_method_count/GET': 4,\n",
      " 'downloader/response_bytes': 16594,\n",
      " 'downloader/response_count': 4,\n",
      " 'downloader/response_status_count/200': 2,\n",
      " 'downloader/response_status_count/301': 2,\n",
      " 'elapsed_time_seconds': 0.508326,\n",
      " 'finish_reason': 'finished',\n",
      " 'finish_time': datetime.datetime(2021, 12, 22, 13, 49, 55, 5958),\n",
      " 'item_scraped_count': 10,\n",
      " 'log_count/DEBUG': 14,\n",
      " 'log_count/INFO': 11,\n",
      " 'memusage/max': 56254464,\n",
      " 'memusage/startup': 56254464,\n",
      " 'response_received_count': 2,\n",
      " 'robotstxt/request_count': 1,\n",
      " 'robotstxt/response_count': 1,\n",
      " 'robotstxt/response_status_count/200': 1,\n",
      " 'scheduler/dequeued': 2,\n",
      " 'scheduler/dequeued/memory': 2,\n",
      " 'scheduler/enqueued': 2,\n",
      " 'scheduler/enqueued/memory': 2,\n",
      " 'start_time': datetime.datetime(2021, 12, 22, 13, 49, 54, 497632)}\n",
      "2021-12-22 13:49:55 [scrapy.core.engine] INFO: Spider closed (finished)\n"
     ]
    }
   ],
   "source": [
    "!cd hltv && rm lbc.json && scrapy crawl htlv -O lbc.json"
   ]
  }
 ],
 "metadata": {
  "kernelspec": {
   "display_name": "Python 3 (ipykernel)",
   "language": "python",
   "name": "python3"
  },
  "language_info": {
   "codemirror_mode": {
    "name": "ipython",
    "version": 3
   },
   "file_extension": ".py",
   "mimetype": "text/x-python",
   "name": "python",
   "nbconvert_exporter": "python",
   "pygments_lexer": "ipython3",
   "version": "3.8.12"
  }
 },
 "nbformat": 4,
 "nbformat_minor": 5
}
